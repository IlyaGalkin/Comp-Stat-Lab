{
 "cells": [
  {
   "cell_type": "code",
   "execution_count": 11,
   "id": "1de1d883",
   "metadata": {},
   "outputs": [],
   "source": [
    "import pandas as pd \n",
    "import numpy as np\n",
    "import scipy\n",
    "from scipy import stats\n",
    "import matplotlib.pyplot as plt"
   ]
  },
  {
   "cell_type": "code",
   "execution_count": 6,
   "id": "3c2ee675",
   "metadata": {},
   "outputs": [],
   "source": [
    "y = ds['SLIV']\n",
    "x1 = ds['TOTALINC']\n",
    "x2 = ds['CONSUM']\n",
    "x = [x1, x2]\n",
    "f = lambda x, a, b, c: a + b*x[0] + c*x[1]"
   ]
  },
  {
   "cell_type": "code",
   "execution_count": 12,
   "id": "fd7c7af6",
   "metadata": {},
   "outputs": [
    {
     "name": "stdout",
     "output_type": "stream",
     "text": [
      "     COD_OBL  SLIV   TOTALINC     CONSUM\n",
      "2814   Khark  43.4   6537.730   5445.395\n",
      "2815   Khark  27.4   5010.000   8748.480\n",
      "2816   Khark  43.4   9062.305  10071.220\n",
      "2817   Khark  42.3   7476.710   7420.655\n",
      "2818   Khark  18.2   5169.540   7491.460\n",
      "...      ...   ...        ...        ...\n",
      "3258   Khark  50.0  12271.540   6336.600\n",
      "3259   Khark  38.0   5054.980   2287.520\n",
      "3260   Khark  75.0   5405.025   1717.555\n",
      "3261   Khark  55.0   4426.905   2244.430\n",
      "3262   Khark  40.0   8741.850   4486.530\n",
      "\n",
      "[449 rows x 4 columns]\n"
     ]
    }
   ],
   "source": [
    "df = pd.ExcelFile('house01.xls')\n",
    "ds = df.parse('Дані')\n",
    "ds = ds[['COD_OBL','SLIV','TOTALINC','CONSUM']]\n",
    "ds = ds.loc[ds['COD_OBL'] == 'Khark']\n",
    "print(ds)"
   ]
  },
  {
   "cell_type": "markdown",
   "id": "a2717323",
   "metadata": {},
   "source": [
    "# "
   ]
  },
  {
   "cell_type": "code",
   "execution_count": 13,
   "id": "8ae87d33",
   "metadata": {},
   "outputs": [
    {
     "name": "stdout",
     "output_type": "stream",
     "text": [
      "Correlation y, x1 =  0.2790452743536842\n"
     ]
    }
   ],
   "source": [
    "dx1 = x1 - x1.mean() \n",
    "dy = y - y.mean()\n",
    "covariance = (dx1 * dy).sum() / (dx1.count() - 1)\n",
    "x1_hat = x1.mean()\n",
    "n = x1.count()\n",
    "var_x = sum((x1 - x1_hat) ** 2) / n\n",
    "std_dev_x = np.sqrt(var_x)\n",
    "y_hat = y.mean()\n",
    "var_y = sum((y - y_hat) ** 2) / n\n",
    "std_dev_y = np.sqrt(var_y)\n",
    "\n",
    "k_cor = covariance/(std_dev_x * std_dev_y)\n",
    "print('Correlation y, x1 = ',k_cor)"
   ]
  },
  {
   "cell_type": "code",
   "execution_count": 15,
   "id": "257da0b6",
   "metadata": {},
   "outputs": [],
   "source": [
    "t_stat=k_cor * np.sqrt(( x1.count() - 2)/ 1 - k_cor ** 2)\n",
    "p = 2 * stats.t.sf(t_stat, (x1.count() - 2))"
   ]
  },
  {
   "cell_type": "code",
   "execution_count": 16,
   "id": "513b5d7d",
   "metadata": {},
   "outputs": [
    {
     "name": "stdout",
     "output_type": "stream",
     "text": [
      "Correlation y, x2 =  0.1488401795146879\n"
     ]
    }
   ],
   "source": [
    "dx2 = x2 - x2.mean() \n",
    "covariance=(dx2 * dy).sum() / (dx2.count() - 1)\n",
    "x2_hat = x2.mean()\n",
    "var_x=sum((x2 - x2_hat) ** 2) / n\n",
    "std_dev_x = np.sqrt(var_x)\n",
    "k_cor=covariance/(std_dev_x * std_dev_y)\n",
    "print('Correlation y, x2 = ',k_cor)"
   ]
  },
  {
   "cell_type": "code",
   "execution_count": 17,
   "id": "a39bca76",
   "metadata": {},
   "outputs": [],
   "source": [
    "df = x2.count() - 2\n",
    "t_stat = k_cor * np.sqrt(df / 1 - k_cor ** 2)\n",
    "p = 2 * stats.t.sf(t_stat, df)"
   ]
  },
  {
   "cell_type": "markdown",
   "id": "cac2c832",
   "metadata": {},
   "source": [
    "Коеф  для рівняння прогнозування."
   ]
  },
  {
   "cell_type": "code",
   "execution_count": 18,
   "id": "3d438cf3",
   "metadata": {},
   "outputs": [],
   "source": [
    "X1=x1.to_numpy()\n",
    "X2=x2.to_numpy()\n",
    "Y=y.to_numpy()\n",
    "list1=[1]*len(X1)\n",
    "X = np.array((X1, X2,list1))\n",
    "X = X.T\n",
    "w = np.linalg.solve(np.dot(X.T, X), np.dot(X.T, Y))\n",
    "Yhat = np.dot(X, w)\n",
    "d1 = Y - Yhat\n",
    "d2 = Y - Y.mean()\n",
    "r2 = 1 - d1.dot(d1) / d2.dot(d2)\n",
    "fstat=r2/(1-r2)*((len(Y)-2-1)/2)\n",
    "ftest=1-stats.f.cdf(fstat,2,len(Y)-2-1)"
   ]
  },
  {
   "cell_type": "markdown",
   "id": "4aecde88",
   "metadata": {},
   "source": [
    "# Рівняння для прогнозування"
   ]
  },
  {
   "cell_type": "code",
   "execution_count": 19,
   "id": "619f3406",
   "metadata": {},
   "outputs": [
    {
     "name": "stdout",
     "output_type": "stream",
     "text": [
      "SLIV =  0.0013*TOTALINC +-0.0002*CONSUM +29.0017\n"
     ]
    }
   ],
   "source": [
    "print('SLIV =  %.4f*TOTALINC'%w[0],'+%.4f*CONSUM'%w[1],'+%.4f'%w[2])"
   ]
  },
  {
   "cell_type": "code",
   "execution_count": null,
   "id": "49a49bdb",
   "metadata": {},
   "outputs": [],
   "source": []
  },
  {
   "cell_type": "code",
   "execution_count": 16,
   "id": "5fec1f0f",
   "metadata": {},
   "outputs": [
    {
     "name": "stdout",
     "output_type": "stream",
     "text": [
      "[ 2.90016795e+01  1.27493464e-03 -2.47454135e-04]\n"
     ]
    }
   ],
   "source": [
    "popt, pcov = scipy.optimize.curve_fit(f, x, y)\n",
    "print(popt)"
   ]
  },
  {
   "cell_type": "code",
   "execution_count": 18,
   "id": "9454acd0",
   "metadata": {},
   "outputs": [
    {
     "name": "stdout",
     "output_type": "stream",
     "text": [
      "13.41167424017873\n"
     ]
    }
   ],
   "source": [
    "print((((y - f(x, popt[0], popt[1], popt[2]))**2).mean())**(1/2))"
   ]
  }
 ],
 "metadata": {
  "kernelspec": {
   "display_name": "Python 3",
   "language": "python",
   "name": "python3"
  },
  "language_info": {
   "codemirror_mode": {
    "name": "ipython",
    "version": 3
   },
   "file_extension": ".py",
   "mimetype": "text/x-python",
   "name": "python",
   "nbconvert_exporter": "python",
   "pygments_lexer": "ipython3",
   "version": "3.8.9"
  }
 },
 "nbformat": 4,
 "nbformat_minor": 5
}
