{
 "cells": [
  {
   "cell_type": "code",
   "execution_count": 25,
   "id": "5decf20a",
   "metadata": {},
   "outputs": [],
   "source": [
    "import pandas as pd \n",
    "import numpy as np\n",
    "from scipy import stats\n",
    "from  scipy.stats import chi2_contingency\n",
    "import matplotlib.pyplot as plt"
   ]
  },
  {
   "cell_type": "markdown",
   "id": "c6bb827c",
   "metadata": {},
   "source": [
    "## TASK 1"
   ]
  },
  {
   "cell_type": "code",
   "execution_count": 26,
   "id": "ac3db348",
   "metadata": {},
   "outputs": [
    {
     "name": "stdout",
     "output_type": "stream",
     "text": [
      "   Descriptive statistics\n",
      "Min =  2.023987548448134 ,  Max =  5.6229132969146\n",
      "Average =  3.51905982645141\n",
      "Range =  3.598925748466466\n",
      "Asymmetry =  0.22669753766472464\n",
      "Quantiles \n",
      "0.25    2.748924\n",
      "0.50    3.462188\n",
      "0.75    4.342700\n",
      "Name: Un, dtype: float64\n"
     ]
    }
   ],
   "source": [
    "\n",
    "x1 = pd.ExcelFile('distrib.xls')\n",
    "ds = x1.parse('Лист1')\n",
    "un = ds['Un']\n",
    "print('   Descriptive statistics')\n",
    "print('Min = ', un.min(), ',  Max = ', un.max())\n",
    "print('Average = ', un.mean())\n",
    "print('Range = ', un.max()-un.min())\n",
    "print('Asymmetry = ', un.skew())\n",
    "print('Quantiles ')\n",
    "print(un.quantile([0.25, 0.5, 0.75]))\n"
   ]
  },
  {
   "cell_type": "code",
   "execution_count": 27,
   "id": "704cc6dd",
   "metadata": {},
   "outputs": [
    {
     "data": {
      "image/png": "[encoded data removed]",
      "text/plain": [
       "<Figure size 720x360 with 1 Axes>"
      ]
     },
     "metadata": {
      "needs_background": "light"
     },
     "output_type": "display_data"
    }
   ],
   "source": [
    "plt.figure(figsize=(10, 5))\n",
    "plt.subplot(1, 2, 1)\n",
    "plt.hist(un, density=True, bins=30)\n",
    "plt.ylabel('Frequency')\n",
    "plt.xlabel('Un')\n",
    "plt.show()"
   ]
  },
  {
   "cell_type": "code",
   "execution_count": 28,
   "id": "d9927342",
   "metadata": {},
   "outputs": [
    {
     "name": "stdout",
     "output_type": "stream",
     "text": [
      " Interval \n",
      "[  nan  :  nan  ]\n"
     ]
    },
    {
     "data": {
      "image/png": "[encoded data removed]",
      "text/plain": [
       "<Figure size 432x288 with 1 Axes>"
      ]
     },
     "metadata": {
      "needs_background": "light"
     },
     "output_type": "display_data"
    },
    {
     "name": "stdout",
     "output_type": "stream",
     "text": [
      "D =  nan , pval =  nan\n",
      "The hypothesis is accepted\n"
     ]
    }
   ],
   "source": [
    "un = 1.0 * np.array(un)\n",
    "n = len(un)\n",
    "confidence = 0.95\n",
    "m, se = np.mean(un), stats.sem(un)\n",
    "print(' Interval ')\n",
    "h = se * stats.t.ppf((1 + confidence) / 2., n-1)\n",
    "print('[ ', m-h, ' : ', m+h, ' ]')\n",
    "d = {0: sorted(stats.norm.rvs(loc=0, scale=1, size=len(un))), 1: sorted(un)}\n",
    "pd.DataFrame(d).plot.scatter(0, 1, s=7, grid=True)\n",
    "plt.plot([un.min(), un.max()], [un.min(), un.max()], linewidth=1)\n",
    "plt.xlabel('Quantiles of theoretical normal distribution')\n",
    "plt.ylabel('Data quantiles')\n",
    "plt.title ('Quantile graphic', fontweight='semibold')\n",
    "plt.show()\n",
    "normed_data=(un - un.mean())/un.std()\n",
    "D, pval = stats.kstest(normed_data, 'norm')\n",
    "alfa = 0.05\n",
    "if pval < alfa:\n",
    "    print('D = ', D, ', pval = ', pval)\n",
    "    print('The hypothesis is rejected')\n",
    "else:\n",
    "    print('D = ', D, ', pval = ', pval)\n",
    "    print('The hypothesis is accepted')"
   ]
  },
  {
   "cell_type": "markdown",
   "id": "da962f8b",
   "metadata": {},
   "source": [
    "## TASK 2"
   ]
  },
  {
   "cell_type": "code",
   "execution_count": 29,
   "id": "97f15f97",
   "metadata": {},
   "outputs": [
    {
     "name": "stdout",
     "output_type": "stream",
     "text": [
      "Conjugacy table\n",
      "alter   1   2    3    4    5\n",
      "treue                       \n",
      "1      14  65  107  186  177\n",
      "2      13  70   78  145  150\n",
      "Chi-square test results\n",
      "chisq-statistic=3.5000773688644897, p-value=0.4778665804801462, df=4 expected_frep=[[ 14.74925373  73.74626866 101.05970149 180.81492537 178.62985075]\n",
      " [ 12.25074627  61.25373134  83.94029851 150.18507463 148.37014925]]\n"
     ]
    }
   ],
   "source": [
    "x = pd.ExcelFile('kaffee.xls')\n",
    "ds = x.parse('Лист1')\n",
    "k = ds[['treue','alter']]\n",
    "print('Conjugacy table')\n",
    "tb = pd.crosstab(k['treue'], k['alter'])\n",
    "print(tb)\n",
    "print('Chi-square test results')\n",
    "kf = chi2_contingency(tb)\n",
    "print('chisq-statistic={}, p-value={}, df={} expected_frep={}'.format(kf[0], kf[1], kf[2], kf[3]))"
   ]
  },
  {
   "cell_type": "markdown",
   "id": "5ae08e36",
   "metadata": {},
   "source": [
    "## TASK 3"
   ]
  },
  {
   "cell_type": "code",
   "execution_count": 35,
   "id": "fac9c6e4",
   "metadata": {},
   "outputs": [
    {
     "name": "stdout",
     "output_type": "stream",
     "text": [
      "Dependency R, M\n",
      "Correlation =  0.21856457060143192\n"
     ]
    }
   ],
   "source": [
    "dx1 = x1 - x1.mean() \n",
    "dy = y - y.mean()\n",
    "x1_hat = x1.mean()\n",
    "n = x1.count()\n",
    "var_x = sum((x1 - x1_hat) ** 2) / n\n",
    "std_dev_x = np.sqrt(var_x)\n",
    "y_hat = y.mean()\n",
    "var_y = sum((y - y_hat) ** 2) / n\n",
    "std_dev_y = np.sqrt(var_y)\n",
    "k_cor = ((dx1 * dy).sum() / (dx1.count() - 1))/(std_dev_x * std_dev_y)\n",
    "print('Dependency R, M')\n",
    "print('Correlation = ',k_cor)\n"
   ]
  },
  {
   "cell_type": "code",
   "execution_count": 39,
   "id": "f4cc441b",
   "metadata": {},
   "outputs": [
    {
     "name": "stdout",
     "output_type": "stream",
     "text": [
      "Dependency R, N\n",
      "Correlation =  0.3448104539433652\n"
     ]
    }
   ],
   "source": [
    "dx2 = x2 - x2.mean() \n",
    "x2_hat = x2.mean()\n",
    "var_x=sum((x2 - x2_hat) ** 2) / n\n",
    "std_dev_x=np.sqrt(var_x)\n",
    "k_cor = ((dx2 * dy).sum() / (dx2.count() - 1))/(std_dev_x * std_dev_y)\n",
    "print('Dependency R, N')\n",
    "print('Correlation = ',k_cor)"
   ]
  },
  {
   "cell_type": "code",
   "execution_count": 40,
   "id": "9bb60081",
   "metadata": {},
   "outputs": [
    {
     "data": {
      "image/png": "[encoded data removed]",
      "text/plain": [
       "<Figure size 432x288 with 1 Axes>"
      ]
     },
     "metadata": {
      "needs_background": "light"
     },
     "output_type": "display_data"
    }
   ],
   "source": [
    "x = pd.ExcelFile('crime.xls')\n",
    "ds = x.parse('Лист1')\n",
    "cr = ds[['R','M','N']]\n",
    "y = cr['R']\n",
    "x1 = cr['M']\n",
    "x2 = cr['N']\n",
    "pd.DataFrame(np.array([x1, y]).T).plot.scatter(0, 1, s=12, grid=True)\n",
    "plt.xlabel('The number of males per 1000 females')\n",
    "plt.ylabel('Count of crimes')\n",
    "plt.show()"
   ]
  },
  {
   "cell_type": "code",
   "execution_count": 41,
   "id": "a7b3b384",
   "metadata": {},
   "outputs": [
    {
     "data": {
      "image/png": "[encoded data removed]",
      "text/plain": [
       "<Figure size 432x288 with 1 Axes>"
      ]
     },
     "metadata": {
      "needs_background": "light"
     },
     "output_type": "display_data"
    }
   ],
   "source": [
    "pd.DataFrame(np.array([x2, y]).T).plot.scatter(0, 1, s=12, grid=True)\n",
    "plt.xlabel('State population size in hundred thousands ')\n",
    "plt.ylabel('Count of crimes')\n",
    "plt.show()"
   ]
  },
  {
   "cell_type": "markdown",
   "id": "04fd5368",
   "metadata": {},
   "source": [
    "## TASK 4"
   ]
  },
  {
   "cell_type": "code",
   "execution_count": null,
   "id": "611a9097",
   "metadata": {},
   "outputs": [],
   "source": []
  }
 ],
 "metadata": {
  "kernelspec": {
   "display_name": "Python 3",
   "language": "python",
   "name": "python3"
  },
  "language_info": {
   "codemirror_mode": {
    "name": "ipython",
    "version": 3
   },
   "file_extension": ".py",
   "mimetype": "text/x-python",
   "name": "python",
   "nbconvert_exporter": "python",
   "pygments_lexer": "ipython3",
   "version": "3.8.9"
  }
 },
 "nbformat": 4,
 "nbformat_minor": 5
}
